{
 "cells": [
  {
   "cell_type": "code",
   "execution_count": 1,
   "metadata": {},
   "outputs": [],
   "source": [
    "## Simple Data Visualization with python basic libraries"
   ]
  },
  {
   "cell_type": "code",
   "execution_count": 2,
   "metadata": {},
   "outputs": [],
   "source": [
    "import seaborn as sb\n",
    "import pandas as pd\n",
    "import matplotlib.pyplot as plt"
   ]
  },
  {
   "cell_type": "code",
   "execution_count": 3,
   "metadata": {},
   "outputs": [],
   "source": [
    "import warnings\n",
    "warnings.filterwarnings('ignore')"
   ]
  },
  {
   "cell_type": "code",
   "execution_count": 4,
   "metadata": {},
   "outputs": [
    {
     "data": {
      "text/plain": [
       "'C:\\\\Users\\\\kamalakanta.mishra\\\\Desktop\\\\Kamal\\\\MyStuff'"
      ]
     },
     "execution_count": 4,
     "metadata": {},
     "output_type": "execute_result"
    }
   ],
   "source": [
    "import os\n",
    "\n",
    "os.getcwd()"
   ]
  },
  {
   "cell_type": "code",
   "execution_count": 15,
   "metadata": {},
   "outputs": [
    {
     "data": {
      "text/html": [
       "<div>\n",
       "<style scoped>\n",
       "    .dataframe tbody tr th:only-of-type {\n",
       "        vertical-align: middle;\n",
       "    }\n",
       "\n",
       "    .dataframe tbody tr th {\n",
       "        vertical-align: top;\n",
       "    }\n",
       "\n",
       "    .dataframe thead th {\n",
       "        text-align: right;\n",
       "    }\n",
       "</style>\n",
       "<table border=\"1\" class=\"dataframe\">\n",
       "  <thead>\n",
       "    <tr style=\"text-align: right;\">\n",
       "      <th></th>\n",
       "      <th>State.Code</th>\n",
       "      <th>city</th>\n",
       "      <th>state</th>\n",
       "      <th>day</th>\n",
       "      <th>month</th>\n",
       "      <th>year</th>\n",
       "      <th>hour</th>\n",
       "      <th>NO2.Mean</th>\n",
       "      <th>NO2.1st.Max.Value</th>\n",
       "      <th>NO2.1st.Max.Hour</th>\n",
       "      <th>...</th>\n",
       "      <th>O3.AQI</th>\n",
       "      <th>SO2.Mean</th>\n",
       "      <th>SO2.1st.Max.Value</th>\n",
       "      <th>SO2.1st.Max.Hour</th>\n",
       "      <th>SO2.AQI</th>\n",
       "      <th>CO.Mean</th>\n",
       "      <th>CO.1st.Max.Value</th>\n",
       "      <th>CO.1st.Max.Hour</th>\n",
       "      <th>CO.AQI</th>\n",
       "      <th>ET</th>\n",
       "    </tr>\n",
       "  </thead>\n",
       "  <tbody>\n",
       "    <tr>\n",
       "      <td>0</td>\n",
       "      <td>4</td>\n",
       "      <td>kingman (desert&amp;#44 out of)</td>\n",
       "      <td>az</td>\n",
       "      <td>7</td>\n",
       "      <td>7</td>\n",
       "      <td>2000</td>\n",
       "      <td>21</td>\n",
       "      <td>7.375000</td>\n",
       "      <td>15.0</td>\n",
       "      <td>6</td>\n",
       "      <td>...</td>\n",
       "      <td>45</td>\n",
       "      <td>1.0000</td>\n",
       "      <td>1.0</td>\n",
       "      <td>0</td>\n",
       "      <td>1.0</td>\n",
       "      <td>0.195833</td>\n",
       "      <td>0.3</td>\n",
       "      <td>0</td>\n",
       "      <td>3.0</td>\n",
       "      <td>1</td>\n",
       "    </tr>\n",
       "    <tr>\n",
       "      <td>1</td>\n",
       "      <td>4</td>\n",
       "      <td>tacna (approx)</td>\n",
       "      <td>az</td>\n",
       "      <td>7</td>\n",
       "      <td>7</td>\n",
       "      <td>2000</td>\n",
       "      <td>21</td>\n",
       "      <td>7.375000</td>\n",
       "      <td>15.0</td>\n",
       "      <td>6</td>\n",
       "      <td>...</td>\n",
       "      <td>45</td>\n",
       "      <td>1.0000</td>\n",
       "      <td>1.0</td>\n",
       "      <td>0</td>\n",
       "      <td>1.0</td>\n",
       "      <td>0.195833</td>\n",
       "      <td>0.3</td>\n",
       "      <td>0</td>\n",
       "      <td>3.0</td>\n",
       "      <td>1</td>\n",
       "    </tr>\n",
       "    <tr>\n",
       "      <td>2</td>\n",
       "      <td>4</td>\n",
       "      <td>apache junction</td>\n",
       "      <td>az</td>\n",
       "      <td>6</td>\n",
       "      <td>9</td>\n",
       "      <td>2001</td>\n",
       "      <td>21</td>\n",
       "      <td>7.708333</td>\n",
       "      <td>19.0</td>\n",
       "      <td>6</td>\n",
       "      <td>...</td>\n",
       "      <td>31</td>\n",
       "      <td>0.1875</td>\n",
       "      <td>0.3</td>\n",
       "      <td>2</td>\n",
       "      <td>NaN</td>\n",
       "      <td>0.175000</td>\n",
       "      <td>0.7</td>\n",
       "      <td>6</td>\n",
       "      <td>NaN</td>\n",
       "      <td>1</td>\n",
       "    </tr>\n",
       "    <tr>\n",
       "      <td>3</td>\n",
       "      <td>4</td>\n",
       "      <td>sedona</td>\n",
       "      <td>az</td>\n",
       "      <td>5</td>\n",
       "      <td>6</td>\n",
       "      <td>2005</td>\n",
       "      <td>21</td>\n",
       "      <td>7.916667</td>\n",
       "      <td>17.0</td>\n",
       "      <td>6</td>\n",
       "      <td>...</td>\n",
       "      <td>41</td>\n",
       "      <td>3.0000</td>\n",
       "      <td>3.0</td>\n",
       "      <td>0</td>\n",
       "      <td>4.0</td>\n",
       "      <td>0.416667</td>\n",
       "      <td>0.6</td>\n",
       "      <td>6</td>\n",
       "      <td>NaN</td>\n",
       "      <td>1</td>\n",
       "    </tr>\n",
       "    <tr>\n",
       "      <td>4</td>\n",
       "      <td>4</td>\n",
       "      <td>tucson</td>\n",
       "      <td>az</td>\n",
       "      <td>5</td>\n",
       "      <td>10</td>\n",
       "      <td>2007</td>\n",
       "      <td>2</td>\n",
       "      <td>8.625000</td>\n",
       "      <td>20.0</td>\n",
       "      <td>6</td>\n",
       "      <td>...</td>\n",
       "      <td>34</td>\n",
       "      <td>0.0375</td>\n",
       "      <td>0.3</td>\n",
       "      <td>23</td>\n",
       "      <td>NaN</td>\n",
       "      <td>0.212500</td>\n",
       "      <td>0.3</td>\n",
       "      <td>5</td>\n",
       "      <td>NaN</td>\n",
       "      <td>1</td>\n",
       "    </tr>\n",
       "  </tbody>\n",
       "</table>\n",
       "<p>5 rows × 24 columns</p>\n",
       "</div>"
      ],
      "text/plain": [
       "   State.Code                         city state  day  month  year  hour  \\\n",
       "0           4  kingman (desert&#44 out of)    az    7      7  2000    21   \n",
       "1           4               tacna (approx)    az    7      7  2000    21   \n",
       "2           4              apache junction    az    6      9  2001    21   \n",
       "3           4                       sedona    az    5      6  2005    21   \n",
       "4           4                       tucson    az    5     10  2007     2   \n",
       "\n",
       "   NO2.Mean  NO2.1st.Max.Value  NO2.1st.Max.Hour  ...  O3.AQI  SO2.Mean  \\\n",
       "0  7.375000               15.0                 6  ...      45    1.0000   \n",
       "1  7.375000               15.0                 6  ...      45    1.0000   \n",
       "2  7.708333               19.0                 6  ...      31    0.1875   \n",
       "3  7.916667               17.0                 6  ...      41    3.0000   \n",
       "4  8.625000               20.0                 6  ...      34    0.0375   \n",
       "\n",
       "   SO2.1st.Max.Value  SO2.1st.Max.Hour  SO2.AQI   CO.Mean  CO.1st.Max.Value  \\\n",
       "0                1.0                 0      1.0  0.195833               0.3   \n",
       "1                1.0                 0      1.0  0.195833               0.3   \n",
       "2                0.3                 2      NaN  0.175000               0.7   \n",
       "3                3.0                 0      4.0  0.416667               0.6   \n",
       "4                0.3                23      NaN  0.212500               0.3   \n",
       "\n",
       "   CO.1st.Max.Hour  CO.AQI  ET  \n",
       "0                0     3.0   1  \n",
       "1                0     3.0   1  \n",
       "2                6     NaN   1  \n",
       "3                6     NaN   1  \n",
       "4                5     NaN   1  \n",
       "\n",
       "[5 rows x 24 columns]"
      ]
     },
     "execution_count": 15,
     "metadata": {},
     "output_type": "execute_result"
    }
   ],
   "source": [
    "pollution_data = pd.read_csv(\"UFOPOLLUTANTS.csv\")\n",
    "\n",
    "pollution_data.head()"
   ]
  },
  {
   "cell_type": "code",
   "execution_count": 16,
   "metadata": {},
   "outputs": [
    {
     "data": {
      "text/plain": [
       "State.Code           63173\n",
       "city                 63173\n",
       "state                63173\n",
       "day                  63173\n",
       "month                63173\n",
       "year                 63173\n",
       "hour                 63173\n",
       "NO2.Mean             63173\n",
       "NO2.1st.Max.Value    63173\n",
       "NO2.1st.Max.Hour     63173\n",
       "NO2.AQI              63173\n",
       "O3.Mean              63173\n",
       "O3.1st.Max.Value     63173\n",
       "O3.1st.Max.Hour      63173\n",
       "O3.AQI               63173\n",
       "SO2.Mean             63173\n",
       "SO2.1st.Max.Value    63173\n",
       "SO2.1st.Max.Hour     63173\n",
       "SO2.AQI              31625\n",
       "CO.Mean              63173\n",
       "CO.1st.Max.Value     63173\n",
       "CO.1st.Max.Hour      63173\n",
       "CO.AQI               31607\n",
       "ET                   63173\n",
       "dtype: int64"
      ]
     },
     "execution_count": 16,
     "metadata": {},
     "output_type": "execute_result"
    }
   ],
   "source": [
    "pollution_data.count()"
   ]
  },
  {
   "cell_type": "code",
   "execution_count": 17,
   "metadata": {},
   "outputs": [
    {
     "data": {
      "image/png": "[encoded data removed]",
      "text/plain": [
       "<Figure size 720x360 with 1 Axes>"
      ]
     },
     "metadata": {
      "needs_background": "light"
     },
     "output_type": "display_data"
    }
   ],
   "source": [
    "sb.set_palette(\"Set1\")\n",
    "fig,axis = plt.subplots(figsize=(10,5))\n",
    "sb.distplot(pollution_data[\"SO2.1st.Max.Hour\"])\n",
    "sb.distplot(pollution_data[\"CO.1st.Max.Hour\"])\n",
    "plt.show()"
   ]
  },
  {
   "cell_type": "code",
   "execution_count": 18,
   "metadata": {},
   "outputs": [],
   "source": [
    "pollution_data = pollution_data[:1000]"
   ]
  },
  {
   "cell_type": "code",
   "execution_count": 20,
   "metadata": {},
   "outputs": [
    {
     "data": {
      "image/png": "[encoded data removed]",
      "text/plain": [
       "<Figure size 720x360 with 1 Axes>"
      ]
     },
     "metadata": {
      "needs_background": "light"
     },
     "output_type": "display_data"
    }
   ],
   "source": [
    "sb.set_palette(\"Set1\")\n",
    "fig,axis = plt.subplots(figsize=(10,5))\n",
    "sb.distplot(pollution_data[\"SO2.1st.Max.Hour\"])\n",
    "sb.distplot(pollution_data[\"CO.1st.Max.Hour\"])\n",
    "plt.show()"
   ]
  },
  {
   "cell_type": "code",
   "execution_count": null,
   "metadata": {},
   "outputs": [],
   "source": []
  }
 ],
 "metadata": {
  "kernelspec": {
   "display_name": "Python 3",
   "language": "python",
   "name": "python3"
  },
  "language_info": {
   "codemirror_mode": {
    "name": "ipython",
    "version": 3
   },
   "file_extension": ".py",
   "mimetype": "text/x-python",
   "name": "python",
   "nbconvert_exporter": "python",
   "pygments_lexer": "ipython3",
   "version": "3.7.4"
  }
 },
 "nbformat": 4,
 "nbformat_minor": 4
}

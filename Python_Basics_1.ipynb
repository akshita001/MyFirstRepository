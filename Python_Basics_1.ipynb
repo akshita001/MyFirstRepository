{
 "cells": [
  {
   "cell_type": "markdown",
   "metadata": {},
   "source": [
    "# This is Akhita's 1st Jupyter Notebook\n",
    "### Author: Akshita Mishra\n",
    "### Date: 15-Jan-2020\n",
    "\n",
    "## Python Basics"
   ]
  },
  {
   "cell_type": "markdown",
   "metadata": {},
   "source": [
    "## 1. Print Statements"
   ]
  },
  {
   "cell_type": "code",
   "execution_count": 36,
   "metadata": {},
   "outputs": [
    {
     "name": "stdout",
     "output_type": "stream",
     "text": [
      "Sparkie Champ Me\n"
     ]
    }
   ],
   "source": [
    "# Import basic libraries\n",
    "import numpy as np\n",
    "import pandas as pd\n",
    "\n",
    "# Wtite some basic print statements\n",
    "print(\"Sparkie Champ Me\")"
   ]
  },
  {
   "cell_type": "code",
   "execution_count": 37,
   "metadata": {},
   "outputs": [
    {
     "name": "stdout",
     "output_type": "stream",
     "text": [
      "229.99999999999997\n"
     ]
    }
   ],
   "source": [
    "print(100*2.3)"
   ]
  },
  {
   "cell_type": "code",
   "execution_count": 38,
   "metadata": {},
   "outputs": [
    {
     "name": "stdout",
     "output_type": "stream",
     "text": [
      "Hello\n",
      "Bonjour\n",
      "Buenos Dias\n",
      "G'Day\n",
      "Guten-Tag\n",
      "Konichiwa\n",
      "Ciao\n",
      "Shalom\n",
      "Do-Brey Dien\n",
      "Hello to all the children of the world\n"
     ]
    }
   ],
   "source": [
    "print(\"Hello\")\n",
    "print(\"Bonjour\") #French\n",
    "print(\"Buenos Dias\") # Spanish\n",
    "print(\"G'Day\")\n",
    "print(\"Guten-Tag\")\n",
    "print(\"Konichiwa\") #Japanese\n",
    "print(\"Ciao\") \n",
    "print(\"Shalom\")\n",
    "print(\"Do-Brey Dien\")\n",
    "print(\"Hello to all the children of the world\")"
   ]
  },
  {
   "cell_type": "markdown",
   "metadata": {},
   "source": [
    "## 2. Variables"
   ]
  },
  {
   "cell_type": "code",
   "execution_count": 39,
   "metadata": {},
   "outputs": [
    {
     "name": "stdout",
     "output_type": "stream",
     "text": [
      "700.0\n"
     ]
    }
   ],
   "source": [
    "a = 200\n",
    "b = 3.5\n",
    "\n",
    "print (a*b)"
   ]
  },
  {
   "cell_type": "code",
   "execution_count": 40,
   "metadata": {},
   "outputs": [
    {
     "name": "stdout",
     "output_type": "stream",
     "text": [
      "800\n"
     ]
    }
   ],
   "source": [
    "x = 400\n",
    "y=2\n",
    "print(x*y)"
   ]
  },
  {
   "cell_type": "markdown",
   "metadata": {},
   "source": [
    "## 3. If-Else Conditional Statements"
   ]
  },
  {
   "cell_type": "code",
   "execution_count": 41,
   "metadata": {},
   "outputs": [
    {
     "name": "stdout",
     "output_type": "stream",
     "text": [
      "Do cats bark?no\n",
      "Correct\n"
     ]
    }
   ],
   "source": [
    "answer = input(\"Do cats bark?\")\n",
    "\n",
    "if answer == \"no\":\n",
    "    print(\"Correct\")\n",
    "else:\n",
    "    print(\"Incorrect\")"
   ]
  },
  {
   "cell_type": "code",
   "execution_count": 44,
   "metadata": {},
   "outputs": [
    {
     "name": "stdout",
     "output_type": "stream",
     "text": [
      "Do I study in 5th grade?Yes\n",
      "Correct\n"
     ]
    }
   ],
   "source": [
    "answer = input(\"Do I study in 5th grade?\")\n",
    "\n",
    "if answer == \"Yes\":\n",
    "    print(\"Correct\")\n",
    "else:\n",
    "    print(\"Incorrect\")"
   ]
  },
  {
   "cell_type": "code",
   "execution_count": 45,
   "metadata": {},
   "outputs": [
    {
     "name": "stdout",
     "output_type": "stream",
     "text": [
      "Score: 100\n",
      "Outstanding\n"
     ]
    }
   ],
   "source": [
    "mark = int(input(\"Score: \"))\n",
    "\n",
    "if mark >= 101 :\n",
    "    print(\"Invalid Score\")\n",
    "    \n",
    "elif mark <= 100 and mark > 90 :\n",
    "    print(\"Outstanding\")\n",
    "    \n",
    "elif mark <= 90 and mark > 80 :\n",
    "    print(\"Excellent\")\n",
    "    \n",
    "elif mark <= 80 and mark > 70 :\n",
    "    print(\"Very Good\")\n",
    "    \n",
    "elif mark <= 70 and mark > 60 :\n",
    "    print(\"Good\")\n",
    "    \n",
    "else:\n",
    "    print(\"Average\")"
   ]
  }
 ],
 "metadata": {
  "kernelspec": {
   "display_name": "Python 3",
   "language": "python",
   "name": "python3"
  },
  "language_info": {
   "codemirror_mode": {
    "name": "ipython",
    "version": 3
   },
   "file_extension": ".py",
   "mimetype": "text/x-python",
   "name": "python",
   "nbconvert_exporter": "python",
   "pygments_lexer": "ipython3",
   "version": "3.7.4"
  }
 },
 "nbformat": 4,
 "nbformat_minor": 2
}

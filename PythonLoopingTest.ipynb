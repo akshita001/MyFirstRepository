{
 "cells": [
  {
   "cell_type": "code",
   "execution_count": 23,
   "metadata": {},
   "outputs": [],
   "source": [
    "## Testing Loops : for summing up to n number of integers"
   ]
  },
  {
   "cell_type": "code",
   "execution_count": 24,
   "metadata": {},
   "outputs": [],
   "source": [
    "n = 10\n",
    "\n",
    "sum = 0"
   ]
  },
  {
   "cell_type": "code",
   "execution_count": 25,
   "metadata": {},
   "outputs": [
    {
     "name": "stdout",
     "output_type": "stream",
     "text": [
      "10 55\n"
     ]
    }
   ],
   "source": [
    "for i in range(1, n+1):\n",
    "    sum = sum + i\n",
    "    \n",
    "print(n, sum)"
   ]
  },
  {
   "cell_type": "code",
   "execution_count": 26,
   "metadata": {},
   "outputs": [],
   "source": [
    "## Testing from a range of values in a set in looping"
   ]
  },
  {
   "cell_type": "code",
   "execution_count": 27,
   "metadata": {},
   "outputs": [],
   "source": [
    "fruits = [\"apple\",\"non-fruit\", \"banana\", \"orange\", \"pears\"]"
   ]
  },
  {
   "cell_type": "code",
   "execution_count": 28,
   "metadata": {},
   "outputs": [
    {
     "name": "stdout",
     "output_type": "stream",
     "text": [
      "Great fruits..apple\n",
      "Not a fruit or edible part!!\n",
      "Great fruits..banana\n",
      "Great fruits..orange\n",
      "Great fruits..pears\n",
      "Finally we are done with all fruits!!\n"
     ]
    }
   ],
   "source": [
    "for j in fruits:\n",
    "    if j == \"non-fruit\":\n",
    "        print(\"Not a fruit or edible part!!\")\n",
    "        continue\n",
    "    print(\"Great fruits..\" + j)\n",
    "    \n",
    "print(\"Finally we are done with all fruits!!\")"
   ]
  },
  {
   "cell_type": "code",
   "execution_count": null,
   "metadata": {},
   "outputs": [],
   "source": []
  }
 ],
 "metadata": {
  "kernelspec": {
   "display_name": "Python 3",
   "language": "python",
   "name": "python3"
  },
  "language_info": {
   "codemirror_mode": {
    "name": "ipython",
    "version": 3
   },
   "file_extension": ".py",
   "mimetype": "text/x-python",
   "name": "python",
   "nbconvert_exporter": "python",
   "pygments_lexer": "ipython3",
   "version": "3.7.4"
  }
 },
 "nbformat": 4,
 "nbformat_minor": 4
}

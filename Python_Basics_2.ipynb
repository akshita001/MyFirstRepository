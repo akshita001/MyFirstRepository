{
 "cells": [
  {
   "cell_type": "markdown",
   "metadata": {},
   "source": [
    "## Python Basics\n",
    "\n",
    "### This is related to prompt usage in Python Notebook"
   ]
  },
  {
   "cell_type": "code",
   "execution_count": 41,
   "metadata": {},
   "outputs": [
    {
     "name": "stdout",
     "output_type": "stream",
     "text": [
      "What is your name?ABC\n",
      "How many dogs will you like to have?12\n",
      "What is the type of name  <class 'str'>\n",
      "What is the type of number  <class 'str'>\n",
      "My name is ABC ,number of dogs I would like to have is  12\n"
     ]
    }
   ],
   "source": [
    "name=input(\"What is your name?\")\n",
    "\n",
    "number=input(\"How many dogs will you like to have?\")\n",
    "\n",
    "print(\"What is the type of name \", type(name))\n",
    "print(\"What is the type of number \", type(number))\n",
    "print(\"My name is\" ,name, \",number of dogs I would like to have is \", number)"
   ]
  },
  {
   "cell_type": "markdown",
   "metadata": {},
   "source": [
    "### Basic computation using variables in Python"
   ]
  },
  {
   "cell_type": "code",
   "execution_count": 42,
   "metadata": {},
   "outputs": [
    {
     "name": "stdout",
     "output_type": "stream",
     "text": [
      "The value of parameter a :1\n",
      "The value of parameter b :63\n",
      "The value of parameter c :2875\n"
     ]
    }
   ],
   "source": [
    "# We will take 3 variables and we will assign some random values to it.\n",
    "# Then we will use a compute function to derive values\n",
    "\n",
    "from numpy import random\n",
    "\n",
    "a = random.randint(10)\n",
    "b = random.randint(100)\n",
    "c = random.randint(10000)\n",
    "\n",
    "d=(c-a)*b\n",
    "\n",
    "print (\"The value of parameter a :\" + str(a))\n",
    "print (\"The value of parameter b :\" + str(b))\n",
    "print (\"The value of parameter c :\" + str(c))"
   ]
  },
  {
   "cell_type": "code",
   "execution_count": 43,
   "metadata": {},
   "outputs": [
    {
     "name": "stdout",
     "output_type": "stream",
     "text": [
      "The value of parameter d :181062\n"
     ]
    }
   ],
   "source": [
    "print (\"The value of parameter d :\" + str(d))"
   ]
  },
  {
   "cell_type": "code",
   "execution_count": 44,
   "metadata": {},
   "outputs": [
    {
     "name": "stdout",
     "output_type": "stream",
     "text": [
      "The value of parameter a :[0.46754733 0.95841128]\n",
      "The value of parameter b :[0.40862097 0.37731357]\n",
      "The value of parameter c :[0.02957121 0.7078205 ]\n"
     ]
    }
   ],
   "source": [
    "# I am trying for FLOAT type now\n",
    "# The random.rand function will give us a number with 2 array representation\n",
    "# This is what we will try to experiment below\n",
    "\n",
    "from numpy import random\n",
    "\n",
    "a = random.rand(2)\n",
    "b = random.rand(2)\n",
    "c = random.rand(2)\n",
    "\n",
    "d=(c-a)*b\n",
    "\n",
    "print (\"The value of parameter a :\" + str(a))\n",
    "print (\"The value of parameter b :\" + str(b))\n",
    "print (\"The value of parameter c :\" + str(c))\n"
   ]
  },
  {
   "cell_type": "code",
   "execution_count": 45,
   "metadata": {},
   "outputs": [
    {
     "name": "stdout",
     "output_type": "stream",
     "text": [
      "The value of parameter d :[-0.17896623 -0.0945513 ]\n"
     ]
    }
   ],
   "source": [
    "print (\"The value of parameter d :\" + str(d))"
   ]
  }
 ],
 "metadata": {
  "kernelspec": {
   "display_name": "Python 3",
   "language": "python",
   "name": "python3"
  },
  "language_info": {
   "codemirror_mode": {
    "name": "ipython",
    "version": 3
   },
   "file_extension": ".py",
   "mimetype": "text/x-python",
   "name": "python",
   "nbconvert_exporter": "python",
   "pygments_lexer": "ipython3",
   "version": "3.7.6"
  }
 },
 "nbformat": 4,
 "nbformat_minor": 4
}
